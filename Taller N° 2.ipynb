{
  "nbformat": 4,
  "nbformat_minor": 0,
  "metadata": {
    "colab": {
      "provenance": [],
      "authorship_tag": "ABX9TyO+H+U/7kWXs8Zoij5BxOSo",
      "include_colab_link": true
    },
    "kernelspec": {
      "name": "python3",
      "display_name": "Python 3"
    },
    "language_info": {
      "name": "python"
    }
  },
  "cells": [
    {
      "cell_type": "markdown",
      "metadata": {
        "id": "view-in-github",
        "colab_type": "text"
      },
      "source": [
        "<a href=\"https://colab.research.google.com/github/AMV1909/cd_202202_axel_morales/blob/main/test_mapas.ipynb\" target=\"_parent\"><img src=\"https://colab.research.google.com/assets/colab-badge.svg\" alt=\"Open In Colab\"/></a>"
      ]
    },
    {
      "cell_type": "code",
      "execution_count": null,
      "metadata": {
        "id": "_7fYuTl3mCHi"
      },
      "outputs": [],
      "source": [
        "!pip install cython\n",
        "!pip install cartopy"
      ]
    },
    {
      "cell_type": "code",
      "source": [
        "!apt-get -qq install python-cartopy python3-cartopy\n",
        "!pip uninstall -y shapely    # cartopy and shapely aren't friends (early 2020)\n",
        "!pip install shapely --no-binary shapely"
      ],
      "metadata": {
        "id": "Z80HjglxmHHc"
      },
      "execution_count": null,
      "outputs": []
    },
    {
      "cell_type": "code",
      "source": [
        "import warnings\n",
        "warnings.filterwarnings('ignore')"
      ],
      "metadata": {
        "id": "P4ygZRhXmIZd"
      },
      "execution_count": 3,
      "outputs": []
    },
    {
      "cell_type": "code",
      "source": [
        "%matplotlib inline\n",
        "import matplotlib.pyplot as plt\n",
        "from matplotlib import cm\n",
        "\n",
        "import numpy as np\n",
        "\n",
        "import cartopy\n",
        "import cartopy.crs as ccrs                   # for projections\n",
        "import cartopy.feature as cfeature           # for features\n",
        "import cartopy.io.shapereader as shapereader\n",
        "from cartopy.mpl.ticker import LongitudeFormatter, LatitudeFormatter\n",
        "from cartopy.feature.nightshade import Nightshade"
      ],
      "metadata": {
        "id": "3K-CqpvLmJfs"
      },
      "execution_count": 4,
      "outputs": []
    },
    {
      "cell_type": "code",
      "source": [
        "# Obtain the remote shapefile files\n",
        "import urllib.request\n",
        "\n",
        "url = 'https://foscalinternacional.com/cartografia/'\n",
        "\n",
        "file_list = [\"68276_manzanas.cpg\", \"68276_manzanas.dbf\", \"68276_manzanas.prj\", \"68276_manzanas.qpj\", \"68276_manzanas.shp\", \"68276_manzanas.shx\"]\n",
        "\n",
        "for file in file_list:\n",
        "    urllib.request.urlretrieve(url+file, file)"
      ],
      "metadata": {
        "id": "_jzzfz9ZmLDV"
      },
      "execution_count": 5,
      "outputs": []
    },
    {
      "cell_type": "code",
      "source": [
        "subplot_kw = dict(projection=ccrs.PlateCarree())\n",
        "\n",
        "fig, ax = plt.subplots(figsize=(16, 16), subplot_kw=subplot_kw)\n",
        "\n",
        "# Mapa de floridablanca\n",
        "lower_lon = -73.125\n",
        "upper_lon = -73.073\n",
        "lower_lat = 7.051\n",
        "upper_lat = 7.102\n",
        "\n",
        "ax.set_extent([lower_lon, upper_lon, lower_lat, upper_lat])\n",
        "\n",
        "reader = shapereader.Reader('68276_manzanas')\n",
        "\n",
        "for manzana in reader.geometries():\n",
        "    ax.add_geometries([manzana], ccrs.PlateCarree(), facecolor='white', edgecolor='black')\n",
        "\n",
        "ax.add_line\n",
        "plt.show()"
      ],
      "metadata": {
        "id": "cvjyHguTmM7U"
      },
      "execution_count": null,
      "outputs": []
    },
    {
      "cell_type": "code",
      "source": [
        "import colorsys\n",
        "import math"
      ],
      "metadata": {
        "id": "AyfZaxgPnGnX"
      },
      "execution_count": 7,
      "outputs": []
    },
    {
      "cell_type": "code",
      "source": [
        "def generar_gama(ri,gi,bi,rf,gf,bf,cantidad):\n",
        "  hsvi = colorsys.rgb_to_hsv(ri/255,gi/255,bi/255)\n",
        "  hsvf = colorsys.rgb_to_hsv(rf/255,gf/255,bf/255)\n",
        "\n",
        "  pasoh = (hsvf[0]- hsvi[0])/(cantidad - 1)\n",
        "  pasos= (hsvf[1]- hsvi[1])/(cantidad - 1)\n",
        "  pasov = (hsvf[2]- hsvi[2])/(cantidad - 1)\n",
        "\n",
        "  listaRGB = []\n",
        "\n",
        "  listaRGB.append((ri/255,gi/255,bi/255))\n",
        "\n",
        "  for i in range(cantidad - 1):\n",
        "    h = hsvi[0] + pasoh * (i + 1)\n",
        "    s = hsvi[1] + pasos * (i + 1)\n",
        "    v = hsvi[2] + pasov * (i + 1)\n",
        "\n",
        "    rgb = colorsys.hsv_to_rgb(h,s,v)\n",
        "    #listaRGB.append([round( rgb[0] * 255 , 0),round( rgb[1] * 255 , 0), round(rgb[2] * 255 , 0)] )\n",
        "    listaRGB.append(rgb)\n",
        "\n",
        "  \n",
        "  return listaRGB"
      ],
      "metadata": {
        "id": "U_zsuPiInHfr"
      },
      "execution_count": 8,
      "outputs": []
    },
    {
      "cell_type": "code",
      "source": [
        "gama = generar_gama(255,0,0,255,255,0,10)\n",
        "gama"
      ],
      "metadata": {
        "id": "o9f7N719nJrt"
      },
      "execution_count": null,
      "outputs": []
    },
    {
      "cell_type": "code",
      "source": [
        "import matplotlib.pyplot as plt\n",
        "import matplotlib.patches as patches\n",
        "import matplotlib.colors as color"
      ],
      "metadata": {
        "id": "m6XjF8FLnLId"
      },
      "execution_count": 10,
      "outputs": []
    },
    {
      "cell_type": "code",
      "source": [
        "fig = plt.figure()\n",
        "ax = fig.add_subplot(111)\n",
        "\n",
        "count = len(gama)\n",
        "\n",
        "x=0\n",
        "y=0\n",
        "h=1/count\n",
        "\n",
        "for cl in gama:\n",
        "  pos = (x / count, y/count)\n",
        "  ax.add_patch(patches.Rectangle(pos,1,h,color=cl))\n",
        "  if y >= count-1:\n",
        "    x+=1\n",
        "    y=0\n",
        "  else:\n",
        "    y +=1\n",
        "\n",
        "plt.show()"
      ],
      "metadata": {
        "id": "tKZ3sGT5nMrs"
      },
      "execution_count": null,
      "outputs": []
    }
  ]
}
