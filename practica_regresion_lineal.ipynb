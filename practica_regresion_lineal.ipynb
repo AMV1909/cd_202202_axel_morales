{
  "nbformat": 4,
  "nbformat_minor": 0,
  "metadata": {
    "colab": {
      "name": "practica_regresion_lineal.ipynb",
      "provenance": [],
      "collapsed_sections": [],
      "authorship_tag": "ABX9TyP3rFNt/FwvRB3p/SmUsNIZ",
      "include_colab_link": true
    },
    "kernelspec": {
      "name": "python3",
      "display_name": "Python 3"
    },
    "language_info": {
      "name": "python"
    }
  },
  "cells": [
    {
      "cell_type": "markdown",
      "metadata": {
        "id": "view-in-github",
        "colab_type": "text"
      },
      "source": [
        "<a href=\"https://colab.research.google.com/github/AMV1909/cd_202202_axel_morales/blob/main/practica_regresion_lineal.ipynb\" target=\"_parent\"><img src=\"https://colab.research.google.com/assets/colab-badge.svg\" alt=\"Open In Colab\"/></a>"
      ]
    },
    {
      "cell_type": "code",
      "execution_count": 10,
      "metadata": {
        "colab": {
          "base_uri": "https://localhost:8080/"
        },
        "id": "5aVo-3eqNyoh",
        "outputId": "94f851e3-a89d-4c15-c8d3-c9ec6c162b7f"
      },
      "outputs": [
        {
          "output_type": "stream",
          "name": "stdout",
          "text": [
            "-1.2644376899696048 23.70212765957447\n"
          ]
        }
      ],
      "source": [
        "import numpy as np\n",
        "import statistics\n",
        "\n",
        "x = np.array([3, 7, 8, 2, 11, 6])\n",
        "y = np.array([17, 14, 14, 19, 6, 16])\n",
        "\n",
        "m = ((6*(sum(x*y)))-sum(x)*sum(y))/(6*(sum(x**2))-(sum(x))**2)\n",
        "b = statistics.mean(x)-m*statistics.mean(y)\n",
        "\n",
        "print(m, b)"
      ]
    }
  ]
}