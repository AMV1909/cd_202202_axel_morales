{
  "cells": [
    {
      "cell_type": "markdown",
      "metadata": {
        "id": "view-in-github",
        "colab_type": "text"
      },
      "source": [
        "<a href=\"https://colab.research.google.com/github/AMV1909/cd_202202_axel_morales/blob/main/Trabajo%201.ipynb\" target=\"_parent\"><img src=\"https://colab.research.google.com/assets/colab-badge.svg\" alt=\"Open In Colab\"/></a>"
      ]
    },
    {
      "cell_type": "code",
      "execution_count": null,
      "metadata": {
        "id": "gxPm5C7CWkIt"
      },
      "outputs": [],
      "source": [
        "pip install pyproj"
      ]
    },
    {
      "cell_type": "code",
      "execution_count": null,
      "metadata": {
        "id": "EMxb4P_ddUFL"
      },
      "outputs": [],
      "source": [
        "import pandas as pd\n",
        "from datetime import datetime\n",
        "import pyproj\n",
        "from numpy import abs, sqrt\n",
        "import matplotlib.pyplot as plt\n",
        "import seaborn as sb\n",
        "from math import ceil, floor, e, pi\n",
        "import array"
      ]
    },
    {
      "cell_type": "code",
      "source": [
        "ruta = 'https://foscalinternacional.com/datasets/eventos_dengue_2020.csv'\n",
        "df = pd.read_csv(ruta)\n",
        "\n",
        "df"
      ],
      "metadata": {
        "id": "x0qgXEdLVeMg"
      },
      "execution_count": null,
      "outputs": []
    },
    {
      "cell_type": "code",
      "execution_count": null,
      "metadata": {
        "id": "mcI3ZzJ8e_DB"
      },
      "outputs": [],
      "source": [
        "df['fec_not2'] = pd.to_datetime(df['fec_not'], format=\"%d/%m/%Y\")\n",
        "df['fecha_contagio2'] = pd.to_datetime(df['fecha_contagio'], format=\"%d/%m/%Y\")\n",
        "df['inicio_sintomas2'] = pd.to_datetime(df['inicio_sintomas'], format=\"%d/%m/%Y\")\n",
        "df['fec_hos_2'] = pd.to_datetime(df['fec_hos_'], format=\"%d/%m/%Y\")"
      ]
    },
    {
      "cell_type": "code",
      "execution_count": null,
      "metadata": {
        "id": "8214iJOPhcxp"
      },
      "outputs": [],
      "source": [
        "P = pyproj.Proj(proj='utm', zone=18, ellps='WGS84', preserve_units=True)"
      ]
    },
    {
      "cell_type": "code",
      "execution_count": null,
      "metadata": {
        "id": "Qbm7CuwchwyM"
      },
      "outputs": [],
      "source": [
        "df['x'], df['y'] = P(df['longitud'], df['latitud'])\n",
        "df"
      ]
    },
    {
      "cell_type": "markdown",
      "metadata": {
        "id": "0fzl8AWQmDpV"
      },
      "source": [
        "Sacar la distancia de los puntos hacia la alcadía de Floridablanca"
      ]
    },
    {
      "cell_type": "code",
      "execution_count": null,
      "metadata": {
        "id": "v99g_i7Miblz"
      },
      "outputs": [],
      "source": [
        "def distancia():\n",
        "  lat_alcaldia = 7.062958503050063\n",
        "  lon_alcaldia = -73.08619741888012\n",
        "\n",
        "  x_alcaldia, y_alcaldia = P(lon_alcaldia, lat_alcaldia)\n",
        "\n",
        "  df['distancia'] = sqrt((x_alcaldia-df['x'])**2 + (y_alcaldia-df['y'])**2)\n",
        "\n",
        "  return df"
      ]
    },
    {
      "cell_type": "code",
      "execution_count": null,
      "metadata": {
        "id": "XmXC0mIPoWN0"
      },
      "outputs": [],
      "source": [
        "distancia()"
      ]
    },
    {
      "cell_type": "code",
      "execution_count": null,
      "metadata": {
        "id": "fMJ8drwWOCZp"
      },
      "outputs": [],
      "source": [
        "datosf = df\n",
        "datosf = datosf.select_dtypes(exclude = ['object', 'datetime64'])\n",
        "datosf = datosf.drop('año', axis = 1)\n",
        "datosf = datosf.drop('cod_pais_o', axis = 1)\n",
        "datosf = datosf.drop('condicion_final', axis = 1)\n",
        "datosf = datosf.drop('fecha_defuncion', axis = 1)\n",
        "datosf = datosf.drop('certif_defuncion', axis = 1)"
      ]
    },
    {
      "cell_type": "code",
      "execution_count": null,
      "metadata": {
        "id": "zM3d3qRTPrKu"
      },
      "outputs": [],
      "source": [
        "colormap = plt.cm.viridis\n",
        "plt.figure(figsize=(24,24))\n",
        "plt.title('Person Correlation of Feaures', y=1.05, size=15)\n",
        "sb.heatmap(datosf.astype(float).corr(), linewidth=0.1, vmax=1.0, square=True, cmap=colormap, linecolor='white', annot=True)"
      ]
    },
    {
      "cell_type": "code",
      "source": [
        "def casos():\n",
        "  minx = df['x'].min() - ab\n",
        "  miny = df['y'].min() - ab\n",
        "  maxx = df['x'].max() + ab\n",
        "  maxy = df['y'].max() + ab\n",
        "\n",
        "  len_x = ceil((maxx-minx)/res)\n",
        "  len_y = ceil((maxy-miny)/res)\n",
        "\n",
        "  matriz = [[0 for i in range(len_x)] for j in range(len_y)]\n",
        "\n",
        "  for i in range(df.shape[0]):\n",
        "    a = floor((df.loc[i, 'y'] - miny)/res)\n",
        "    b = floor((df.loc[i, 'x'] - minx)/res)\n",
        "\n",
        "    matriz[a][b] += 1\n",
        "\n",
        "  return len_x, len_y, matriz, minx, miny, maxx, maxy"
      ],
      "metadata": {
        "id": "1g4WLk_cYS5N"
      },
      "execution_count": null,
      "outputs": []
    },
    {
      "cell_type": "code",
      "source": [
        "def paint(matriz):\n",
        "  fig = plt.figure(figsize=(50, 40))\n",
        "\n",
        "  ax = fig.add_subplot(111)\n",
        "  ax.set_title('Mapa de calor')\n",
        "  plt.imshow(matriz)\n",
        "  ax.set_aspect('equal')\n",
        "\n",
        "  cax = fig.add_axes([0.12, 0.1, 0.78, 0.8])\n",
        "  cax.get_xaxis().set_visible(False)\n",
        "  cax.get_yaxis().set_visible(False)\n",
        "  cax.patch.set_alpha(0)\n",
        "  cax.set_frame_on(False)\n",
        "  plt.colorbar(orientation='vertical')\n",
        "  plt.show()"
      ],
      "metadata": {
        "id": "ZYbViOoeipLd"
      },
      "execution_count": null,
      "outputs": []
    },
    {
      "cell_type": "code",
      "execution_count": null,
      "metadata": {
        "id": "q9epWLz2cWlj"
      },
      "outputs": [],
      "source": [
        "def sumatoria(len_x, len_y):\n",
        "  acumulado = [[0 for i in range(len_x)] for j in range(len_y)] \n",
        "\n",
        "  intr = int(ab/res)\n",
        "\n",
        "  for i in range(len(matriz)):\n",
        "    for j in range(len(matriz[0])):\n",
        "      if(matriz[i][j] > 0):\n",
        "        for k in range(i - intr, i + intr):\n",
        "          for l in range(j - intr, j + intr):\n",
        "            dist = (sqrt((i - k)**2 + (j - l)**2)) * res\n",
        "            if(dist < ab):\n",
        "              acumulado[k][l] += matriz[i][j]\n",
        "  \n",
        "  return acumulado"
      ]
    },
    {
      "cell_type": "markdown",
      "source": [
        "Función Uniforme"
      ],
      "metadata": {
        "id": "RorzIv7WUV4a"
      }
    },
    {
      "cell_type": "code",
      "source": [
        "def uniforme():\n",
        "  y = 0.5\n",
        "  \n",
        "  return y"
      ],
      "metadata": {
        "id": "ErolensQTyQI"
      },
      "execution_count": null,
      "outputs": []
    },
    {
      "cell_type": "markdown",
      "source": [
        "Función Triangular"
      ],
      "metadata": {
        "id": "DmJgXssOUYCJ"
      }
    },
    {
      "cell_type": "code",
      "source": [
        "def triangular(x):\n",
        "  y = 1 - abs(x/ab)\n",
        "\n",
        "  return y"
      ],
      "metadata": {
        "id": "IftVZQf8UbCR"
      },
      "execution_count": null,
      "outputs": []
    },
    {
      "cell_type": "markdown",
      "source": [
        "Función Gaussiana"
      ],
      "metadata": {
        "id": "_IV3jCyhUcD_"
      }
    },
    {
      "cell_type": "code",
      "source": [
        "def gaussiana(x):\n",
        "  y = (e**(-(((x/ab)**2)/2)))/(sqrt(2 * pi))\n",
        "\n",
        "  return y"
      ],
      "metadata": {
        "id": "Ld74NsDpUdsf"
      },
      "execution_count": null,
      "outputs": []
    },
    {
      "cell_type": "markdown",
      "source": [
        "Función de Epanechnikov"
      ],
      "metadata": {
        "id": "w59CgpBoUeov"
      }
    },
    {
      "cell_type": "code",
      "source": [
        "def epanechnikov(x):\n",
        "  y = (3/4) * (1 - (x/ab)**2)\n",
        "\n",
        "  return y"
      ],
      "metadata": {
        "id": "ED5JqgRwUhUv"
      },
      "execution_count": null,
      "outputs": []
    },
    {
      "cell_type": "markdown",
      "source": [
        "Función Varianza Mínima"
      ],
      "metadata": {
        "id": "OMmcCehgUiUv"
      }
    },
    {
      "cell_type": "code",
      "source": [
        "def varianza_minima(x):\n",
        "  y = (3/8) * (3 - 5*(x/ab)**2)\n",
        "\n",
        "  return y"
      ],
      "metadata": {
        "id": "kvBH5kpsUj4n"
      },
      "execution_count": null,
      "outputs": []
    },
    {
      "cell_type": "code",
      "source": [
        "def density(dist, funcion):\n",
        "\n",
        "  if(funcion == 1):\n",
        "    return uniforme()\n",
        "  elif(funcion == 2):\n",
        "    return triangular(dist)\n",
        "  elif(funcion == 3):\n",
        "    return gaussiana(dist)\n",
        "  elif(funcion == 4):\n",
        "    return epanechnikov(dist)\n",
        "  elif(funcion == 5):\n",
        "    return varianza_minima(dist)\n",
        "  else:\n",
        "    print(\"Opción Inválida\")\n",
        "    return 0\n",
        "\n",
        "  return densidad"
      ],
      "metadata": {
        "id": "OcOXjxOurGHL"
      },
      "execution_count": null,
      "outputs": []
    },
    {
      "cell_type": "code",
      "source": [
        "def function(len_x, len_y):\n",
        "  acumulado = [[0 for i in range(len_x)] for j in range(len_y)]\n",
        "\n",
        "  intr = int(ab/res)\n",
        "\n",
        "  for i in range(len(matriz)):\n",
        "    for j in range(len(matriz[0])):\n",
        "      if(matriz[i][j] > 0):\n",
        "        for k in range(i - intr, i + intr):\n",
        "          for l in range(j - intr, j + intr):\n",
        "            dist = (sqrt((i - k)**2 + (j - l)**2)) * res\n",
        "            if(dist < ab):\n",
        "              acumulado[k][l] += (density(dist, funcion) * matriz[i][j])/(pi * ab**2)\n",
        "\n",
        "  return acumulado"
      ],
      "metadata": {
        "id": "0afDJ-xLknby"
      },
      "execution_count": null,
      "outputs": []
    },
    {
      "cell_type": "code",
      "source": [
        "res = 10\n",
        "ab = 100\n",
        "funcion = 5"
      ],
      "metadata": {
        "id": "bxM-7kxr55Hb"
      },
      "execution_count": null,
      "outputs": []
    },
    {
      "cell_type": "code",
      "source": [
        "#res = int(input(\"Ingrese un valor para la resolución\\n\"))\n",
        "#ab = int(input(\"Ingrese un valor para el ancho de banda\\n\"))\n",
        "#funcion = int(input(\"¿Cuál función desea usar?\\n1.Uniforme\\n2.Triangular\\n3.Gaussiana\\n4.Epanechnikov\\n5.Varianza Mínima\\n\"))\n",
        "\n",
        "len_x, len_y, matriz, minx, miny, maxx, maxy = casos()\n",
        "acumulado = sumatoria(len_x, len_y)\n",
        "densidad = function(len_x, len_y)\n",
        "paint(densidad)"
      ],
      "metadata": {
        "id": "65CV6eozYONt"
      },
      "execution_count": null,
      "outputs": []
    }
  ],
  "metadata": {
    "accelerator": "GPU",
    "colab": {
      "collapsed_sections": [],
      "provenance": [],
      "include_colab_link": true
    },
    "gpuClass": "standard",
    "kernelspec": {
      "display_name": "Python 3",
      "name": "python3"
    },
    "language_info": {
      "name": "python"
    }
  },
  "nbformat": 4,
  "nbformat_minor": 0
}