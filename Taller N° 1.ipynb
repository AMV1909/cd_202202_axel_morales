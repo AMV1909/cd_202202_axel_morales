{
  "nbformat": 4,
  "nbformat_minor": 0,
  "metadata": {
    "colab": {
      "name": "Taller N° 1.ipynb",
      "provenance": [],
      "collapsed_sections": [],
      "authorship_tag": "ABX9TyNMHjWHWQelfVvP7GsJ2CKy",
      "include_colab_link": true
    },
    "kernelspec": {
      "name": "python3",
      "display_name": "Python 3"
    },
    "language_info": {
      "name": "python"
    }
  },
  "cells": [
    {
      "cell_type": "markdown",
      "metadata": {
        "id": "view-in-github",
        "colab_type": "text"
      },
      "source": [
        "<a href=\"https://colab.research.google.com/github/AMV1909/cd_202202_axel_morales/blob/main/Taller%20N%C2%B0%201.ipynb\" target=\"_parent\"><img src=\"https://colab.research.google.com/assets/colab-badge.svg\" alt=\"Open In Colab\"/></a>"
      ]
    },
    {
      "cell_type": "code",
      "execution_count": null,
      "metadata": {
        "id": "gxPm5C7CWkIt"
      },
      "outputs": [],
      "source": [
        "pip install pyproj"
      ]
    },
    {
      "cell_type": "code",
      "source": [
        "import pandas as pd\n",
        "\n",
        "ruta = 'https://foscalinternacional.com/datasets/eventos_dengue_2020.csv'\n",
        "df = pd.read_csv(ruta)"
      ],
      "metadata": {
        "id": "EMxb4P_ddUFL"
      },
      "execution_count": 8,
      "outputs": []
    },
    {
      "cell_type": "code",
      "source": [
        "df"
      ],
      "metadata": {
        "id": "vDG4yZxZfTas"
      },
      "execution_count": null,
      "outputs": []
    },
    {
      "cell_type": "code",
      "source": [
        "df.dtypes"
      ],
      "metadata": {
        "id": "4kCHzVj0evan"
      },
      "execution_count": null,
      "outputs": []
    },
    {
      "cell_type": "code",
      "source": [
        "from datetime import datetime\n",
        "\n",
        "df['fec_not2'] = pd.to_datetime(df['fec_not'], format=\"%d/%m/%Y\")\n",
        "df['fecha_contagio2'] = pd.to_datetime(df['fecha_contagio'], format=\"%d/%m/%Y\")\n",
        "df['inicio_sintomas2'] = pd.to_datetime(df['inicio_sintomas'], format=\"%d/%m/%Y\")\n",
        "df['fec_hos_2'] = pd.to_datetime(df['fec_hos_'], format=\"%d/%m/%Y\")"
      ],
      "metadata": {
        "id": "mcI3ZzJ8e_DB"
      },
      "execution_count": null,
      "outputs": []
    },
    {
      "cell_type": "code",
      "source": [
        "import pyproj\n",
        "\n",
        "P = pyproj.Proj(proj='utm', zone=18, ellps='WGS84', preserve_units=True)"
      ],
      "metadata": {
        "id": "8214iJOPhcxp"
      },
      "execution_count": 6,
      "outputs": []
    },
    {
      "cell_type": "code",
      "source": [
        "df['x'], df['y'] = P(df['latitud'], df['longitud'])\n",
        "df"
      ],
      "metadata": {
        "id": "Qbm7CuwchwyM"
      },
      "execution_count": null,
      "outputs": []
    },
    {
      "cell_type": "markdown",
      "source": [
        "Sacar la distancia de los puntos hacia la alcadía de Floridablanca"
      ],
      "metadata": {
        "id": "0fzl8AWQmDpV"
      }
    },
    {
      "cell_type": "code",
      "source": [
        "import numpy as np\n",
        "\n",
        "def distancia(latitud, longitud):\n",
        "  lat_alcaldia = 7.062958503050063\n",
        "  lon_alcaldia = -73.08619741888012\n",
        "\n",
        "  x_alcaldia, y_alcaldia = P(lat_alcaldia, lon_alcaldia)\n",
        "\n",
        "  df['distancia'] = np.sqrt((x_alcaldia-df['x'])**2 + (y_alcaldia-df['y'])**2) "
      ],
      "metadata": {
        "id": "v99g_i7Miblz"
      },
      "execution_count": 29,
      "outputs": []
    },
    {
      "cell_type": "code",
      "source": [
        "distancia(7.062958503050063, -73.08619741888012)\n",
        "df"
      ],
      "metadata": {
        "id": "XmXC0mIPoWN0"
      },
      "execution_count": null,
      "outputs": []
    }
  ]
}