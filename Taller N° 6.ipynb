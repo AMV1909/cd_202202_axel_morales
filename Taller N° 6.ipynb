{
  "nbformat": 4,
  "nbformat_minor": 0,
  "metadata": {
    "colab": {
      "provenance": [],
      "authorship_tag": "ABX9TyOVWrROQlKOrxaPww0DzUA4",
      "include_colab_link": true
    },
    "kernelspec": {
      "name": "python3",
      "display_name": "Python 3"
    },
    "language_info": {
      "name": "python"
    }
  },
  "cells": [
    {
      "cell_type": "markdown",
      "metadata": {
        "id": "view-in-github",
        "colab_type": "text"
      },
      "source": [
        "<a href=\"https://colab.research.google.com/github/AMV1909/cd_202202_axel_morales/blob/main/Taller%20N%C2%B0%206.ipynb\" target=\"_parent\"><img src=\"https://colab.research.google.com/assets/colab-badge.svg\" alt=\"Open In Colab\"/></a>"
      ]
    },
    {
      "cell_type": "code",
      "execution_count": 1,
      "metadata": {
        "id": "ZfHJAfQglCqj"
      },
      "outputs": [],
      "source": [
        "import math\n",
        "\n",
        "def distancia(x, y):\n",
        "  return math.sqrt(x**2 + y**2)"
      ]
    },
    {
      "cell_type": "code",
      "source": [
        "cont = 0\n",
        "puntosLado= 10000\n",
        "paso = 1 / (puntosLado - 1)\n",
        "\n",
        "i = 0\n",
        "while i <= 1:\n",
        "  j = 0\n",
        "  while j <= 1:\n",
        "    if distancia(i, j) <=1:\n",
        "      cont += 1\n",
        "    j += paso\n",
        "  i += paso\n",
        "\n",
        "print(\"Puntos:\", cont)\n",
        "print(\"Estimación de pi:\", (cont * 4 / ( puntosLado**2 )))"
      ],
      "metadata": {
        "colab": {
          "base_uri": "https://localhost:8080/"
        },
        "id": "_4lpM_vdlJEl",
        "outputId": "d9e991af-636b-4d5d-fa34-83a171eef9a3"
      },
      "execution_count": 7,
      "outputs": [
        {
          "output_type": "stream",
          "name": "stdout",
          "text": [
            "Puntos: 78549764\n",
            "Estimación de pi: 3.1413622561351504\n"
          ]
        }
      ]
    },
    {
      "cell_type": "markdown",
      "source": [
        "**Taller N° 6**"
      ],
      "metadata": {
        "id": "uPVMOv90sXjV"
      }
    },
    {
      "cell_type": "code",
      "source": [
        "import random\n",
        "\n",
        "#RANGO GENERAR\n",
        "INTERVAL = 10000\n",
        "\n",
        "circle_points = 0 #PUNTOS DENTRO DEL CÍRCULO\n",
        "square_points = 0 #PUNTOS DENTRO DEL CUADRADO\n",
        "\n",
        "for i in range(INTERVAL**2):\n",
        "  \n",
        "  #GENERACIÓN DE PUNTOS\n",
        "  rand_x = random.uniform(-1, 1)\n",
        "  rand_y = random.uniform(-1, 1)\n",
        "\n",
        "  #DISTANCIA DE CADA PUNTO DEL ORIGEN\n",
        "  origin_dist = distancia(rand_x, rand_y)\n",
        "\n",
        "  #COMPROBAR SI EL PUNTO ESTÁ DENTRO DEL CÍRCULO\n",
        "  if origin_dist <= 1:\n",
        "    circle_points += 1\n",
        "\n",
        "  square_points += 1\n",
        "\n",
        "  #OBTENCIÓN DEL VALORE DE PI\n",
        "  pi = 4 * circle_points / square_points\n",
        "\n",
        "#ESTIMACIÓN FINAL\n",
        "print(\"PI ESTIMATION:\", pi)\n",
        "print(\"TOTAL POINTS:\", square_points)"
      ],
      "metadata": {
        "colab": {
          "base_uri": "https://localhost:8080/"
        },
        "id": "z4_sK6glpYLo",
        "outputId": "3541c417-b4cf-4194-8345-1aa15c560fc6"
      },
      "execution_count": 10,
      "outputs": [
        {
          "output_type": "stream",
          "name": "stdout",
          "text": [
            "PI ESTIMATION: 3.1419418\n",
            "TOTAL POINTS: 100000000\n"
          ]
        }
      ]
    },
    {
      "cell_type": "markdown",
      "source": [
        "Por favor no ejecutar la celda anterior, a menos que quiera esperar 43 minutos con 37 segundos"
      ],
      "metadata": {
        "id": "txv5spgYvxQx"
      }
    }
  ]
}